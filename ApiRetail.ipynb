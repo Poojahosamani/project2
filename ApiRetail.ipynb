{
 "cells": [
  {
   "cell_type": "code",
   "execution_count": null,
   "id": "f3cac856",
   "metadata": {},
   "outputs": [
    {
     "name": "stderr",
     "output_type": "stream",
     "text": [
      " * Running on http://localhost:9000/ (Press CTRL+C to quit)\n",
      "127.0.0.1 - - [29/Nov/2021 18:52:07] \"GET / HTTP/1.1\" 404 -\n",
      "127.0.0.1 - - [29/Nov/2021 18:52:17] \"GET /Retail HTTP/1.1\" 200 -\n",
      "127.0.0.1 - - [29/Nov/2021 18:52:43] \"GET / HTTP/1.1\" 404 -\n",
      "127.0.0.1 - - [29/Nov/2021 18:52:50] \"GET /store HTTP/1.1\" 200 -\n",
      "127.0.0.1 - - [29/Nov/2021 18:53:01] \"GET /soap HTTP/1.1\" 200 -\n",
      "127.0.0.1 - - [29/Nov/2021 18:53:09] \"GET /shampoo HTTP/1.1\" 200 -\n",
      "127.0.0.1 - - [29/Nov/2021 18:53:27] \"GET /chocolates HTTP/1.1\" 200 -\n"
     ]
    }
   ],
   "source": [
    "from werkzeug.wrappers import Request,Response\n",
    "from flask import Flask,jsonify,request\n",
    "from bson.json_util import dumps\n",
    "from retailA import allproducts,allsoap,allshampoo,allchocolates\n",
    "from pymongo import MongoClient\n",
    "client = MongoClient('localhost',27017)\n",
    "\n",
    "db=client['Retail']\n",
    "store = db['store']\n",
    "shampoo = db['shampoo']\n",
    "soap = db['soap']\n",
    "chocolates =db['chocolates']\n",
    "     \n",
    "app=Flask(__name__)\n",
    "@app.route('/Retail',methods=['GET', 'POST'])\n",
    "def home():\n",
    "    if(request.method == 'GET'):\n",
    "        data=\"HELLO! WELCOME TO SHOP\"\n",
    "        return jsonify({'data':data})\n",
    "@app.route('/store',methods=['GET', 'POST'])\n",
    "def f1():\n",
    "     if(request.method == 'GET'):\n",
    "            return allproducts()\n",
    "        \n",
    "@app.route('/soap',methods=['GET', 'POST'])\n",
    "def f2():\n",
    "     if(request.method == 'GET'):\n",
    "            return allsoap()\n",
    "        \n",
    "@app.route('/shampoo',methods=['GET', 'POST'])\n",
    "def f3():\n",
    "     if(request.method == 'GET'):\n",
    "            return allshampoo()\n",
    "        \n",
    "@app.route('/chocolates',methods=['GET', 'POST'])\n",
    "def f5():\n",
    "     if(request.method == 'GET'):\n",
    "            return allchocolates()\n",
    "        \n",
    "if __name__ =='__main__':\n",
    "    from werkzeug.serving import run_simple\n",
    "    run_simple('localhost',9000,app)\n"
   ]
  },
  {
   "cell_type": "code",
   "execution_count": null,
   "id": "4a21d6a0-a362-46c0-b292-861541b8cf4f",
   "metadata": {},
   "outputs": [],
   "source": []
  }
 ],
 "metadata": {
  "kernelspec": {
   "display_name": "Python 3 (ipykernel)",
   "language": "python",
   "name": "python3"
  },
  "language_info": {
   "codemirror_mode": {
    "name": "ipython",
    "version": 3
   },
   "file_extension": ".py",
   "mimetype": "text/x-python",
   "name": "python",
   "nbconvert_exporter": "python",
   "pygments_lexer": "ipython3",
   "version": "3.9.7"
  }
 },
 "nbformat": 4,
 "nbformat_minor": 5
}
