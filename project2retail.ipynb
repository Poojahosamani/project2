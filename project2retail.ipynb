{
 "cells": [
  {
   "cell_type": "code",
   "execution_count": 1,
   "id": "8c67f357",
   "metadata": {},
   "outputs": [],
   "source": [
    "#Project 2: python + mongo : Retail App API \n",
    " \n",
    "#1. Get all products in the store in json format \n",
    "#2. Insert 10 new products with category soap (master - child) \n",
    "#3. Update price of product with category shampoo by 10rs \n",
    "#4. Delete all products with old date (less than 3 months) \n",
    "\n",
    "\n",
    "from pymongo import MongoClient"
   ]
  },
  {
   "cell_type": "code",
   "execution_count": 2,
   "id": "ea104a11",
   "metadata": {},
   "outputs": [],
   "source": [
    "client = MongoClient('localhost',27017)"
   ]
  },
  {
   "cell_type": "code",
   "execution_count": 3,
   "id": "e0ddef27",
   "metadata": {},
   "outputs": [],
   "source": [
    "db=client['Retail']"
   ]
  },
  {
   "cell_type": "code",
   "execution_count": 4,
   "id": "d4d876b3",
   "metadata": {},
   "outputs": [
    {
     "name": "stdout",
     "output_type": "stream",
     "text": [
      "['EDB', 'GFG', 'Retail', 'admin', 'config', 'local', 'mydatabase', 'person', 'std', 'test']\n"
     ]
    }
   ],
   "source": [
    "print(client.list_database_names())"
   ]
  },
  {
   "cell_type": "code",
   "execution_count": 5,
   "id": "98048497",
   "metadata": {},
   "outputs": [],
   "source": [
    "store = db['store']"
   ]
  },
  {
   "cell_type": "code",
   "execution_count": 6,
   "id": "f0a00996",
   "metadata": {},
   "outputs": [],
   "source": [
    "shampoo = db['shampoo']"
   ]
  },
  {
   "cell_type": "code",
   "execution_count": 7,
   "id": "1308878c",
   "metadata": {},
   "outputs": [],
   "source": [
    "soap = db['soap']"
   ]
  },
  {
   "cell_type": "code",
   "execution_count": 8,
   "id": "a8326353",
   "metadata": {},
   "outputs": [],
   "source": [
    "chocolates =db['chocolates']"
   ]
  },
  {
   "cell_type": "code",
   "execution_count": 9,
   "id": "1633977f",
   "metadata": {},
   "outputs": [
    {
     "name": "stdout",
     "output_type": "stream",
     "text": [
      "{'_id': '1', 'Name': 'Shampoo'}\n",
      "{'_id': '2', 'Name': 'Soap'}\n",
      "{'_id': '3', 'Name': 'Chocolates'}\n"
     ]
    }
   ],
   "source": [
    "for data in store.find():\n",
    "    print(data)"
   ]
  },
  {
   "cell_type": "code",
   "execution_count": 10,
   "id": "f2294aec",
   "metadata": {},
   "outputs": [
    {
     "name": "stdout",
     "output_type": "stream",
     "text": [
      "{'_id': ObjectId('61a39eec354b0cfe63c1d018'), 's_id': '01', 'Name': 'Santoor', 'Price': '40'}\n",
      "{'_id': ObjectId('61a39eec354b0cfe63c1d019'), 's_id': '02', 'Name': 'Dove', 'Price': '50'}\n",
      "{'_id': ObjectId('61a39eec354b0cfe63c1d01a'), 's_id': '03', 'Name': 'Vivel', 'Price': '30'}\n",
      "{'_id': ObjectId('61a39eec354b0cfe63c1d01b'), 's_id': '04', 'Name': 'Mysore_Sandal', 'Price': '50'}\n",
      "{'_id': ObjectId('61a39eec354b0cfe63c1d01c'), 's_id': '05', 'Name': 'Lux', 'Price': '40'}\n",
      "{'_id': ObjectId('61a39eec354b0cfe63c1d01d'), 's_id': '06', 'Name': 'Liril', 'Price': '30'}\n",
      "{'_id': ObjectId('61a39eec354b0cfe63c1d01e'), 's_id': '07', 'Name': 'Life_Boy', 'Price': '40'}\n",
      "{'_id': ObjectId('61a39eec354b0cfe63c1d01f'), 's_id': '08', 'Name': 'Himalaya', 'Price': '50'}\n",
      "{'_id': ObjectId('61a39eec354b0cfe63c1d020'), 's_id': '09', 'Name': 'Hamam', 'Price': '30'}\n",
      "{'_id': ObjectId('61a39eec354b0cfe63c1d021'), 's_id': '10', 'Name': 'Cynthol', 'Price': '40'}\n"
     ]
    }
   ],
   "source": [
    "#2. Insert 10 new products with category soap (master - child) \n",
    "\n",
    "for data in soap.find():\n",
    "    print(data)"
   ]
  },
  {
   "cell_type": "code",
   "execution_count": 11,
   "id": "cf0e41bf",
   "metadata": {},
   "outputs": [
    {
     "name": "stdout",
     "output_type": "stream",
     "text": [
      "{'_id': ObjectId('61a3bd60354b0cfe63c1d022'), 'sh_id': '01', 'Shampoo_Name': 'Himalaya', 'Price': '40'}\n",
      "{'_id': ObjectId('61a3bd60354b0cfe63c1d023'), 'sh_id': '02', 'Shampoo_Name': 'ClinicPlus', 'Price': '30'}\n",
      "{'_id': ObjectId('61a3bd60354b0cfe63c1d024'), 'sh_id': '03', 'Shampoo_Name': 'Dove', 'Price': '50'}\n",
      "{'_id': ObjectId('61a3bd60354b0cfe63c1d025'), 'sh_id': '04', 'Shampoo_Name': 'Chik', 'Price': '30'}\n",
      "{'_id': ObjectId('61a3bd60354b0cfe63c1d026'), 'sh_id': '05', 'Shampoo_Name': 'HeadAndSholuder', 'Price': '60'}\n"
     ]
    }
   ],
   "source": [
    "for data in shampoo.find():\n",
    "    print(data)"
   ]
  },
  {
   "cell_type": "code",
   "execution_count": 13,
   "id": "96ca3289-ab94-4896-b9b8-05f0e87f8a54",
   "metadata": {},
   "outputs": [
    {
     "data": {
      "text/plain": [
       "<pymongo.results.UpdateResult at 0x1716ed0c3c0>"
      ]
     },
     "execution_count": 13,
     "metadata": {},
     "output_type": "execute_result"
    }
   ],
   "source": [
    "# Update price of product with category shampoo by 10rs \n",
    "shampoo.update_many({},{\"$set\":{\"price\":\"10\"}})"
   ]
  },
  {
   "cell_type": "code",
   "execution_count": 12,
   "id": "80624f38",
   "metadata": {},
   "outputs": [
    {
     "name": "stdout",
     "output_type": "stream",
     "text": [
      "{'_id': ObjectId('61a3c0fb354b0cfe63c1d027'), 'c_id': '01', 'Name': 'DairyMilk', 'Price': '50'}\n",
      "{'_id': ObjectId('61a3c0fb354b0cfe63c1d028'), 'c_id': '02', 'Name': 'Kitkat', 'Price': '10'}\n",
      "{'_id': ObjectId('61a3c0fb354b0cfe63c1d029'), 'c_id': '03', 'Name': 'Munch', 'Price': '10'}\n",
      "{'_id': ObjectId('61a3c0fb354b0cfe63c1d02a'), 'c_id': '04', 'Name': 'Milkybar', 'Price': '20'}\n",
      "{'_id': ObjectId('61a3c0fb354b0cfe63c1d02b'), 'c_id': '05', 'Name': 'Perk', 'Price': '20'}\n"
     ]
    }
   ],
   "source": [
    "for data in chocolates.find():\n",
    "    print(data)"
   ]
  },
  {
   "cell_type": "code",
   "execution_count": 16,
   "id": "491877dc-3534-462e-b5a0-850d80a4c760",
   "metadata": {},
   "outputs": [
    {
     "data": {
      "text/plain": [
       "<pymongo.results.UpdateResult at 0x1716ed29a80>"
      ]
     },
     "execution_count": 16,
     "metadata": {},
     "output_type": "execute_result"
    }
   ],
   "source": [
    "chocolates.update_many({\"Price\":\"20\"},{\"$set\":{\"ExpDate\":\"10-10-2019\"}})"
   ]
  },
  {
   "cell_type": "code",
   "execution_count": 17,
   "id": "34e8cfe7-881e-4caf-80d0-1620deddc538",
   "metadata": {},
   "outputs": [
    {
     "data": {
      "text/plain": [
       "<pymongo.results.UpdateResult at 0x1716ecfb300>"
      ]
     },
     "execution_count": 17,
     "metadata": {},
     "output_type": "execute_result"
    }
   ],
   "source": [
    "chocolates.update_many({\"Price\":\"10\"},{\"$set\":{\"ExpDate\":\"10-10-2022\"}})"
   ]
  },
  {
   "cell_type": "code",
   "execution_count": 18,
   "id": "3d7e46cf-94d5-47f0-9265-7f801168f41f",
   "metadata": {},
   "outputs": [
    {
     "name": "stdout",
     "output_type": "stream",
     "text": [
      "{'_id': ObjectId('61a3c0fb354b0cfe63c1d027'), 'c_id': '01', 'Name': 'DairyMilk', 'Price': '50'}\n",
      "{'_id': ObjectId('61a3c0fb354b0cfe63c1d028'), 'c_id': '02', 'Name': 'Kitkat', 'Price': '10', 'ExpDate': '10-10-2022'}\n",
      "{'_id': ObjectId('61a3c0fb354b0cfe63c1d029'), 'c_id': '03', 'Name': 'Munch', 'Price': '10', 'ExpDate': '10-10-2022'}\n",
      "{'_id': ObjectId('61a3c0fb354b0cfe63c1d02a'), 'c_id': '04', 'Name': 'Milkybar', 'Price': '20', 'ExpDate': '10-10-2019'}\n",
      "{'_id': ObjectId('61a3c0fb354b0cfe63c1d02b'), 'c_id': '05', 'Name': 'Perk', 'Price': '20', 'ExpDate': '10-10-2019'}\n"
     ]
    }
   ],
   "source": [
    "for data in chocolates.find():\n",
    "    print(data)"
   ]
  },
  {
   "cell_type": "code",
   "execution_count": 19,
   "id": "f123cf78-c7a4-46ed-af4c-7e42f69d0e1a",
   "metadata": {},
   "outputs": [
    {
     "data": {
      "text/plain": [
       "<pymongo.results.DeleteResult at 0x1716ebad700>"
      ]
     },
     "execution_count": 19,
     "metadata": {},
     "output_type": "execute_result"
    }
   ],
   "source": [
    "#4. Delete all products with old date (less than 3 months) \n",
    "\n",
    "chocolates.delete_many({\"ExpDate\":\"10-10-2019\"})"
   ]
  },
  {
   "cell_type": "code",
   "execution_count": 20,
   "id": "4e6b34d9-1ae1-4c0a-b75f-b0806ea02df8",
   "metadata": {},
   "outputs": [
    {
     "name": "stdout",
     "output_type": "stream",
     "text": [
      "{'_id': ObjectId('61a3c0fb354b0cfe63c1d027'), 'c_id': '01', 'Name': 'DairyMilk', 'Price': '50'}\n",
      "{'_id': ObjectId('61a3c0fb354b0cfe63c1d028'), 'c_id': '02', 'Name': 'Kitkat', 'Price': '10', 'ExpDate': '10-10-2022'}\n",
      "{'_id': ObjectId('61a3c0fb354b0cfe63c1d029'), 'c_id': '03', 'Name': 'Munch', 'Price': '10', 'ExpDate': '10-10-2022'}\n"
     ]
    }
   ],
   "source": [
    "for data in chocolates.find():\n",
    "    print(data)"
   ]
  },
  {
   "cell_type": "code",
   "execution_count": null,
   "id": "de5390b4-39cc-4446-aaf3-5c913a90a132",
   "metadata": {},
   "outputs": [],
   "source": []
  }
 ],
 "metadata": {
  "kernelspec": {
   "display_name": "Python 3 (ipykernel)",
   "language": "python",
   "name": "python3"
  },
  "language_info": {
   "codemirror_mode": {
    "name": "ipython",
    "version": 3
   },
   "file_extension": ".py",
   "mimetype": "text/x-python",
   "name": "python",
   "nbconvert_exporter": "python",
   "pygments_lexer": "ipython3",
   "version": "3.9.7"
  }
 },
 "nbformat": 4,
 "nbformat_minor": 5
}
